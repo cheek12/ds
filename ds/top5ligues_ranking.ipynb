{
 "cells": [
  {
   "cell_type": "code",
   "execution_count": 8,
   "id": "6d252acf",
   "metadata": {},
   "outputs": [],
   "source": [
    "import pandas as pd"
   ]
  },
  {
   "cell_type": "code",
   "execution_count": 12,
   "id": "adeb63e3",
   "metadata": {},
   "outputs": [],
   "source": [
    "for i in range(22,23):\n",
    "    filepath = './dataset/UEFA/Clubrankings20' + str(i) +'.csv'\n",
    "    uefa_df = pd.read_csv(filepath,index_col=0)\n",
    "    uefa_5 = pd.concat([uefa_df[uefa_df['Country']=='ENG'],\n",
    "                    uefa_df[uefa_df['Country']=='ESP'],\n",
    "                    uefa_df[uefa_df['Country']=='GER'],\n",
    "                    uefa_df[uefa_df['Country']=='ITA'],\n",
    "                    uefa_df[uefa_df['Country']=='FRA']])\n",
    "    uefa_5.reset_index().drop(['Pos','index'],axis=1)\n",
    "    uefa_5.to_csv('./dataset/UEFA/UefaRankings_5_20' + str(i) +'.csv', encoding='utf-8-sig')"
   ]
  },
  {
   "cell_type": "code",
   "execution_count": null,
   "id": "56f51eb3",
   "metadata": {},
   "outputs": [],
   "source": []
  }
 ],
 "metadata": {
  "kernelspec": {
   "display_name": "Python 3 (ipykernel)",
   "language": "python",
   "name": "python3"
  },
  "language_info": {
   "codemirror_mode": {
    "name": "ipython",
    "version": 3
   },
   "file_extension": ".py",
   "mimetype": "text/x-python",
   "name": "python",
   "nbconvert_exporter": "python",
   "pygments_lexer": "ipython3",
   "version": "3.9.12"
  }
 },
 "nbformat": 4,
 "nbformat_minor": 5
}
