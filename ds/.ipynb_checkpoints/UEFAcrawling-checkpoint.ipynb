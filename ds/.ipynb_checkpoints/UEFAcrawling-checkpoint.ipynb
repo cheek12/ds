{
 "cells": [
  {
   "cell_type": "code",
   "execution_count": 1,
   "id": "b8d379dd",
   "metadata": {},
   "outputs": [],
   "source": [
    "from selenium import webdriver\n",
    "from urllib.request import urlopen\n",
    "from bs4 import BeautifulSoup as bs\n",
    "from urllib.parse import quote_plus\n",
    "from selenium.webdriver.common.keys import Keys\n",
    "from pandas.io.html import read_html\n",
    "\n",
    "import warnings\n",
    "warnings.filterwarnings('ignore')\n",
    "import pandas as pd\n",
    "import re\n",
    "import time"
   ]
  },
  {
   "cell_type": "code",
   "execution_count": 2,
   "id": "9e5b2dc9",
   "metadata": {},
   "outputs": [],
   "source": [
    "# row 생략 없이 출력\n",
    "pd.set_option('display.max_rows', None)\n",
    "# col 생략 없이 출력\n",
    "pd.set_option('display.max_columns', None)"
   ]
  },
  {
   "cell_type": "code",
   "execution_count": 15,
   "id": "23a970a3",
   "metadata": {},
   "outputs": [],
   "source": [
    "for i in range(10,22):\n",
    "    url = 'https://www.uefa.com/nationalassociations/uefarankings/club/#/yr/20%d' %i\n",
    "    wd = webdriver.Chrome('./chromedriver.exe')\n",
    "    wd.get(url)\n",
    "    wd.implicitly_wait(3)\n",
    "    stats = read_html(wd.find_element_by_xpath('//*[@class=\"dataTables_scrollBody\"]').get_attribute('innerHTML'))[0]\n",
    "    url[-4:]\n",
    "    stats.to_csv('./dataset/ClubRankings'+url[-4:]+'.csv')"
   ]
  }
 ],
 "metadata": {
  "kernelspec": {
   "display_name": "Python 3 (ipykernel)",
   "language": "python",
   "name": "python3"
  },
  "language_info": {
   "codemirror_mode": {
    "name": "ipython",
    "version": 3
   },
   "file_extension": ".py",
   "mimetype": "text/x-python",
   "name": "python",
   "nbconvert_exporter": "python",
   "pygments_lexer": "ipython3",
   "version": "3.7.13"
  }
 },
 "nbformat": 4,
 "nbformat_minor": 5
}
