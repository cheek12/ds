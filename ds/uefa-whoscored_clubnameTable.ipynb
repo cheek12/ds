{
 "cells": [
  {
   "cell_type": "code",
   "execution_count": 15,
   "id": "ae253c43",
   "metadata": {},
   "outputs": [],
   "source": [
    "import pandas as pd"
   ]
  },
  {
   "cell_type": "code",
   "execution_count": 16,
   "id": "369a76fc",
   "metadata": {},
   "outputs": [],
   "source": [
    "uefa_club_list =[]"
   ]
  },
  {
   "cell_type": "code",
   "execution_count": 18,
   "id": "4264cca4",
   "metadata": {},
   "outputs": [
    {
     "data": {
      "text/plain": [
       "['MU  Manchester United  Man. United',\n",
       " 'CHE  Chelsea FC  Chelsea',\n",
       " 'ARS  Arsenal FC  Arsenal',\n",
       " 'LIV  Liverpool FC  Liverpool',\n",
       " 'TOT  Tottenham Hotspur  Tottenham',\n",
       " 'EVE  Everton FC  Everton',\n",
       " 'FUL  Fulham FC  Fulham',\n",
       " 'BOL  Bolton Wanderers FC  Bolton',\n",
       " 'MID  Middlesbrough FC  Middlesbrough',\n",
       " 'MC  Manchester City FC  Man. City',\n",
       " 'NEW  Newcastle United FC  Newcastle',\n",
       " 'BLA  Blackburn Rovers FC  Blackburn',\n",
       " 'AV  Aston Villa FC  Aston Villa',\n",
       " 'PRM  Portsmouth FC  Portsmouth',\n",
       " 'WES  West Ham United FC  West Ham',\n",
       " 'BAR  FC Barcelona  Barcelona',\n",
       " 'SEV  Sevilla FC  Sevilla',\n",
       " 'RM  Real Madrid CF  Real Madrid',\n",
       " 'VLR  Villarreal CF  Villarreal',\n",
       " 'VAL  Valencia CF  Valencia',\n",
       " 'ATL  Club Atlético de Madrid  Atlético',\n",
       " 'ESP  RCD Espanyol  Espanyol',\n",
       " 'OSA  CA Osasuna  Osasuna',\n",
       " 'GET  Getafe CF  Getafe',\n",
       " 'CEL  RC Celta de Vigo  Celta',\n",
       " 'BET  Real Betis Balompié  Betis',\n",
       " 'ATH  Athletic Club  Athletic Club',\n",
       " 'RST  Real Racing Club  Racing',\n",
       " 'DEP  Real Club Deportivo La Coruña  Deportivo',\n",
       " 'ZAR  Real Zaragoza  Zaragoza',\n",
       " 'BAY  FC Bayern München  Bayern',\n",
       " 'BRM  SV Werder Bremen  Bremen',\n",
       " 'HSV  Hamburger SV  Hamburg',\n",
       " 'SCH  FC Schalke 04  Schalke',\n",
       " 'STU  VfB Stuttgart  Stuttgart',\n",
       " 'BL  Bayer 04 Leverkusen  Leverkusen',\n",
       " 'WOL  VfL Wolfsburg  Wolfsburg',\n",
       " 'HER  Hertha BSC Berlin  Hertha',\n",
       " 'NÜR  1. FC Nürnberg  Nürnberg',\n",
       " 'EIN  Eintracht Frankfurt  Frankfurt',\n",
       " 'BVB  Borussia Dortmund  Dortmund',\n",
       " 'MAI  1. FSV Mainz 05  Mainz',\n",
       " 'INT  FC Internazionale Milano  Inter',\n",
       " 'ACM  AC Milan  Milan',\n",
       " 'ASR  AS Roma  Roma',\n",
       " 'FIO  ACF Fiorentina  Fiorentina',\n",
       " 'JUV  Juventus  Juventus',\n",
       " 'UDI  Udinese Calcio  Udinese',\n",
       " 'PAL  US Città di Palermo  Palermo',\n",
       " 'SAM  UC Sampdoria  Sampdoria',\n",
       " 'LAZ  SS Lazio  Lazio',\n",
       " 'PAR  Parma FC  Parma',\n",
       " 'LIV  AS Livorno Calcio  Livorno',\n",
       " 'GEN  Genoa CFC  Genoa',\n",
       " 'NAP  SSC Napoli  Napoli',\n",
       " 'EMP  Empoli FC  Empoli',\n",
       " 'CHI  AC Chievo Verona  Chievo',\n",
       " 'OL  Olympique Lyonnais  Lyon',\n",
       " 'BOR  FC Girondins de Bordeaux  Bordeaux',\n",
       " 'OM  Olympique de Marseille  Marseille',\n",
       " 'LIL  LOSC Lille  LOSC',\n",
       " 'PAR  Paris Saint-Germain  Paris',\n",
       " 'LEN  RC Lens  Lens',\n",
       " 'STE  AS Saint-Étienne  St-Étienne',\n",
       " 'NAN  AS Nancy-Lorraine  Nancy',\n",
       " 'STR  Racing Club de Strasbourg Alsace  Strasbourg',\n",
       " 'MON  AS Monaco FC  Monaco',\n",
       " 'TOU  Toulouse FC  Toulouse',\n",
       " 'REN  Stade Rennais FC  Rennes',\n",
       " 'AJA  AJ Auxerre  Auxerre',\n",
       " 'SOC  FC Sochaux-Montbéliard  Sochaux',\n",
       " 'GUI  EA Guingamp  Guingamp',\n",
       " 'MON  Montpellier Hérault SC  Montpellier',\n",
       " 'STO  Stoke City FC  Stoke',\n",
       " 'BIR  Birmingham City FC  Birmingham',\n",
       " 'HAN  Hannover 96  Hannover',\n",
       " 'MAL  Málaga CF  Málaga',\n",
       " 'LEV  Levante UD  Levante',\n",
       " 'MON  VfL Borussia Mönchengladbach  Mönchengladbach',\n",
       " 'SWA  Swansea City AFC  Swansea',\n",
       " 'WIG  Wigan Athletic FC  Wigan',\n",
       " 'REA  Real Sociedad de Fútbol  Real Sociedad',\n",
       " 'FRE  SC Freiburg  Freiburg',\n",
       " 'NIC  OGC Nice  Nice',\n",
       " 'Hull City AFC  Hull',\n",
       " 'TOR  Torino FC  Torino',\n",
       " 'SOU  Southampton FC  Southampton',\n",
       " 'AUG  FC Augsburg  Augsburg',\n",
       " 'LEI  Leicester City FC  Leicester',\n",
       " 'US Sassuolo Calcio  Sassuolo',\n",
       " 'LEI  RB Leipzig  Leipzig',\n",
       " 'HOF  TSG 1899 Hoffenheim  Hoffenheim',\n",
       " 'KÖL  1. FC Köln  Köln',\n",
       " 'ATA  Atalanta BC  Atalanta',\n",
       " 'BUR  Burnley FC  Burnley',\n",
       " 'WOL  Wolverhampton Wanderers FC  Wolves',\n",
       " 'GRA  Granada CF  Granada',\n",
       " 'REI  Stade de Reims  Reims']"
      ]
     },
     "execution_count": 18,
     "metadata": {},
     "output_type": "execute_result"
    }
   ],
   "source": [
    "for i in range(12):\n",
    "    a = pd.read_csv('./dataset/UEFA/UefaRankings_5_20' + str(i+10) +'.csv',index_col=0)\n",
    "    a.reset_index(inplace=True)\n",
    "    a.drop(['index'],axis=1, inplace=True)\n",
    "    \n",
    "    for index in range(len(a)):\n",
    "        if a.loc[index,'Club'] not in uefa_club_list:\n",
    "            uefa_club_list.append(a.loc[index,'Club'])\n",
    "uefa_club_list"
   ]
  },
  {
   "cell_type": "code",
   "execution_count": null,
   "id": "af2d3c95",
   "metadata": {},
   "outputs": [],
   "source": []
  }
 ],
 "metadata": {
  "kernelspec": {
   "display_name": "Python 3 (ipykernel)",
   "language": "python",
   "name": "python3"
  },
  "language_info": {
   "codemirror_mode": {
    "name": "ipython",
    "version": 3
   },
   "file_extension": ".py",
   "mimetype": "text/x-python",
   "name": "python",
   "nbconvert_exporter": "python",
   "pygments_lexer": "ipython3",
   "version": "3.7.13"
  }
 },
 "nbformat": 4,
 "nbformat_minor": 5
}
