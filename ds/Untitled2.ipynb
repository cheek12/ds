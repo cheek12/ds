{
 "cells": [
  {
   "cell_type": "code",
   "execution_count": 1,
   "id": "e2d9ab78",
   "metadata": {},
   "outputs": [],
   "source": [
    "from selenium import webdriver\n",
    "from urllib.request import urlopen\n",
    "from bs4 import BeautifulSoup as bs\n",
    "from urllib.parse import quote_plus\n",
    "from selenium.webdriver.common.keys import Keys\n",
    "from pandas.io.html import read_html\n",
    "\n",
    "import pandas as pd\n",
    "import re\n",
    "import time"
   ]
  },
  {
   "cell_type": "code",
   "execution_count": 12,
   "id": "2dd479b1",
   "metadata": {},
   "outputs": [],
   "source": [
    "url = 'https://1xbet.whoscored.com/Regions/252/Tournaments/2/Seasons/8228/Stages/18685/PlayerStatistics/England-Premier-League-2020-2021'"
   ]
  },
  {
   "cell_type": "code",
   "execution_count": 19,
   "id": "d5a596da",
   "metadata": {},
   "outputs": [
    {
     "name": "stderr",
     "output_type": "stream",
     "text": [
      "C:\\Users\\yongs\\AppData\\Local\\Temp\\ipykernel_34484\\379576667.py:1: DeprecationWarning: executable_path has been deprecated, please pass in a Service object\n",
      "  wd = webdriver.Chrome('C:/Users/yongs/Desktop/ds/chromedriver.exe')\n"
     ]
    }
   ],
   "source": [
    "wd = webdriver.Chrome('C:/Users/yongs/Desktop/ds/chromedriver.exe')\n",
    "wd.implicitly_wait(10)\n",
    "wd.get(url)"
   ]
  },
  {
   "cell_type": "code",
   "execution_count": 18,
   "id": "e6c685e3",
   "metadata": {},
   "outputs": [
    {
     "name": "stderr",
     "output_type": "stream",
     "text": [
      "C:\\Users\\yongs\\AppData\\Local\\Temp\\ipykernel_34484\\2989782057.py:1: DeprecationWarning: find_element_by_link_text is deprecated. Please use find_element(by=By.LINK_TEXT, value=link_text) instead\n",
      "  wd.find_element_by_link_text('Player Statistics').click()\n"
     ]
    }
   ],
   "source": [
    "wd.find_element_by_link_text('Player Statistics').click()\n",
    "time.sleep(3)\n"
   ]
  },
  {
   "cell_type": "code",
   "execution_count": null,
   "id": "81929453",
   "metadata": {},
   "outputs": [],
   "source": [
    "tableid = {'Summary':'statistics-table-summary','Defensive':'statistics-table-defensive','Offensive':'statistics-table-offensive','Passing':'statistics-table-passing'}"
   ]
  }
 ],
 "metadata": {
  "kernelspec": {
   "display_name": "Python 3 (ipykernel)",
   "language": "python",
   "name": "python3"
  },
  "language_info": {
   "codemirror_mode": {
    "name": "ipython",
    "version": 3
   },
   "file_extension": ".py",
   "mimetype": "text/x-python",
   "name": "python",
   "nbconvert_exporter": "python",
   "pygments_lexer": "ipython3",
   "version": "3.9.12"
  }
 },
 "nbformat": 4,
 "nbformat_minor": 5
}
